{
 "cells": [
  {
   "cell_type": "code",
   "execution_count": 9,
   "id": "13a8d4fb-2b19-41f0-a428-b8bb7894ecf3",
   "metadata": {},
   "outputs": [],
   "source": [
    "import logging\n",
    "logging.basicConfig(filename=\"roy.log\", level=logging.ERROR)"
   ]
  },
  {
   "cell_type": "code",
   "execution_count": 2,
   "id": "c78e7620-5741-4e34-934e-4f635d14177b",
   "metadata": {},
   "outputs": [],
   "source": [
    "# Q1. Explain GET and POST methods.\n",
    "try:\n",
    "    logging.info(\"The Get & POST methods are the  type of http methods. In GET method we access or request data by visiting through website by entering the urls, while\\nPOST methods are used to submit the data the page by clicking on the body of the given html\")\n",
    "except TypeError as t:\n",
    "    logging.error(t)"
   ]
  },
  {
   "cell_type": "code",
   "execution_count": 3,
   "id": "dbc1ba83-d140-4158-bcfe-cd65b2ed15d6",
   "metadata": {},
   "outputs": [],
   "source": [
    "# Q2. Why is request used in Flask?\n",
    "try:\n",
    "    logging.info(\"Requests are in Flasks are used  to Facilitate communication between server & Client with the help of http & If the server resposes then we'll be able to access through the website, while if it rejects we wont be able to communicate through it.\")\n",
    "except TypeError as t:\n",
    "    logging.error(t)"
   ]
  },
  {
   "cell_type": "code",
   "execution_count": 4,
   "id": "864e708f-5354-42c0-9eed-6874fadf4345",
   "metadata": {},
   "outputs": [],
   "source": [
    "# Q3. Why is redirect() used in Flask?\n",
    "try:\n",
    "    logging.info(\"The redirect() in Flask is used to allow the user to visit the particular URLs with some status codes.\")\n",
    "except TypeError as t:\n",
    "    logging.error(t)"
   ]
  },
  {
   "cell_type": "code",
   "execution_count": 5,
   "id": "0ca41902-c03b-426e-86f5-7b820f81d25c",
   "metadata": {},
   "outputs": [],
   "source": [
    "# Q4. What are templates in Flask? Why is the render_template() function used?\n",
    "try:\n",
    "    logging.info(\"Templates are the external files used to import to the server with the help of render_template() function which are written in HTML files, render_template() is used to map any external file specially HTML files. \")\n",
    "except TypeError as t:\n",
    "    logging.error(t)"
   ]
  },
  {
   "cell_type": "code",
   "execution_count": 8,
   "id": "030b197f-3fb0-43a1-9386-4ebaf1d3ec1c",
   "metadata": {},
   "outputs": [
    {
     "ename": "SyntaxError",
     "evalue": "invalid syntax (1338729396.py, line 3)",
     "output_type": "error",
     "traceback": [
      "\u001b[0;36m  Cell \u001b[0;32mIn[8], line 3\u001b[0;36m\u001b[0m\n\u001b[0;31m    logging.info(;)\u001b[0m\n\u001b[0m                 ^\u001b[0m\n\u001b[0;31mSyntaxError\u001b[0m\u001b[0;31m:\u001b[0m invalid syntax\n"
     ]
    }
   ],
   "source": [
    "# Q5. Create a simple API. Use Postman to test it. Attach the screenshot of the output in the Jupyter Notebook.\n",
    "try:\n",
    "    logging.info(;)\n",
    "except TypeError as t:\n",
    "    logging.error(t)"
   ]
  },
  {
   "cell_type": "code",
   "execution_count": null,
   "id": "30354c4a-6ae2-4dc1-ac56-4287e7639e23",
   "metadata": {},
   "outputs": [],
   "source": []
  }
 ],
 "metadata": {
  "kernelspec": {
   "display_name": "Python 3 (ipykernel)",
   "language": "python",
   "name": "python3"
  },
  "language_info": {
   "codemirror_mode": {
    "name": "ipython",
    "version": 3
   },
   "file_extension": ".py",
   "mimetype": "text/x-python",
   "name": "python",
   "nbconvert_exporter": "python",
   "pygments_lexer": "ipython3",
   "version": "3.10.8"
  }
 },
 "nbformat": 4,
 "nbformat_minor": 5
}
